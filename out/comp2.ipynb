{
 "cells": [
  {
   "cell_type": "code",
   "execution_count": 1,
   "metadata": {},
   "outputs": [],
   "source": [
    "import numpy as np\n",
    "import h5py\n",
    "import matplotlib.pyplot as plt\n",
    "plt.rc('font', size=12.0)"
   ]
  },
  {
   "cell_type": "code",
   "execution_count": 11,
   "metadata": {},
   "outputs": [
    {
     "data": {
      "text/plain": [
       "1424"
      ]
     },
     "execution_count": 11,
     "metadata": {},
     "output_type": "execute_result"
    }
   ],
   "source": [
    "#cols=['rank', 'thread', 'walker', 'mult', 'log_wgt', 'a', 'alpha', 'param_S', 'param_L',\n",
    "#      'csq1', 'trans1', 'csq2', 'trans2', 'csq3', 'M_chirp_det', 'q', 'z_cdf', 'm1_gw19']\n",
    "\n",
    "cols=['rank', 'thread', 'walker', 'mult', 'log_wgt', 'a', 'alpha', 'param_S', 'param_L',\n",
    "     'exp1', 'trans1', 'exp2', 'trans2', 'exp3', 'M_chirp_det', 'q', 'z_cdf', 'm1_gw19']\n",
    "\n",
    "nsrc=['6304', '6397', 'M13', 'M28', 'M30', 'wCen', \n",
    "      'X7', '1810b', '1724b', '1702', '0030', '0740']\n",
    "pops=['NS', 'WD', 'LMS']\n",
    "pstr=['J0453p','J0453c','J1906p','J1906c','B1534p',  'B1534c','B1913p','B1913c',\n",
    "      'B2127p','B2127c','J0737A','J0737B','J1756p',  'J1756c','J1807p','J1807c',\n",
    "      'J1518p','J1518c','J1811p','J1811c','J1829p',  'J1829c','J2045', 'J2053',\n",
    "      'J1713', 'B1855', 'J0751', 'J1141', 'J1738',   'J1614', 'J0348', 'J2222', 'J2234',\n",
    "      'J1949', 'J1012', 'J0437', 'J1909', 'J1802',   'J1911', 'J2043', 'J0337', 'J1946',\n",
    "      'J1918', 'J1600', 'J0621', 'B2303', 'J0024',   'J0514', 'B1516', 'J1748I','J1748J',\n",
    "      'B1802', 'B1911', 'J0740', 'CygX2', 'XTEJ2123','4U1822','HerX1', '2S0921']\n",
    "for k, star in enumerate(nsrc):\n",
    "    cols.append('mf_'+nsrc[k])\n",
    "for k, pop in enumerate(pops):\n",
    "    cols.append('mean_'+pops[k])\n",
    "    cols.append('log10_width_'+pops[k])\n",
    "    cols.append('skewness_'+pops[k])\n",
    "for k, star in enumerate(pstr):\n",
    "    cols.append('M_'+pstr[k])\n",
    "for k, star in enumerate(nsrc):\n",
    "    cols.append('wgt_'+nsrc[k])\n",
    "for k, star in enumerate(nsrc):\n",
    "    cols.append('Rns_'+nsrc[k])\n",
    "for k, star in enumerate(nsrc):\n",
    "    cols.append('Mns_'+nsrc[k])\n",
    "for k in range(100):\n",
    "    cols.append('P_'+str(k))\n",
    "    cols.append('cs2_'+str(k))\n",
    "for k in range(100):\n",
    "    cols.append('R_'+str(k))\n",
    "    cols.append('PM_'+str(k))\n",
    "for k in range(100):\n",
    "    cols.append('Pnb_'+str(k))\n",
    "    cols.append('EoA_'+str(k))\n",
    "pars=['S', 'L', 'R_max', 'M_max', 'dpdM', 'M_max2', 'P_max', 'e_max', 'nb_max']\n",
    "for k, par in enumerate(pars):\n",
    "    cols.append(pars[k])\n",
    "for k, star in enumerate(nsrc):\n",
    "    cols.append('ce_'+nsrc[k])\n",
    "for k, star in enumerate(nsrc):\n",
    "    cols.append('cnb_'+nsrc[k])\n",
    "for k in range(1,6):\n",
    "    cols.append('gm_nb'+str(k))\n",
    "    cols.append('r_nb'+str(k))\n",
    "pars2=['nt', 'Pt']\n",
    "for k, par in enumerate(pars2):\n",
    "    cols.append(pars2[k])\n",
    "for k in range(100):\n",
    "    cols.append('CT_'+str(k))\n",
    "for k in range(100):\n",
    "    cols.append('MB_'+str(k))\n",
    "    cols.append('BE_'+str(k))\n",
    "    cols.append('I_'+str(k))\n",
    "    cols.append('I_bar_'+str(k))\n",
    "    cols.append('Lambda_bar_'+str(k))\n",
    "for k, star in enumerate(nsrc):\n",
    "    cols.append('atm_'+nsrc[k])\n",
    "gwps=['M_chirp_gw17', 'm1_gw17', 'm2_gw17', 'R1', 'R2', 'I1', 'I2', 'I_bar1', 'I_bar2',\n",
    "      'Lambda1', 'Lambda2', 'Lambdat', 'del_Lambdat', 'prob_gw17', 'eta', 'm2_gw19', 'prob_gw19']\n",
    "for k, gwp in enumerate(gwps):\n",
    "    cols.append(gwps[k])\n",
    "for k, star in enumerate(nsrc):\n",
    "    cols.append('log_wgt_'+nsrc[k])\n",
    "for k, pop in enumerate(pops):\n",
    "    cols.append('log_wgt_'+pops[k])\n",
    "wgts=['log_wgt_pop']\n",
    "for k, wgt in enumerate(wgts):\n",
    "    cols.append(wgts[k])\n",
    "len((cols))"
   ]
  },
  {
   "cell_type": "code",
   "execution_count": 14,
   "metadata": {},
   "outputs": [
    {
     "name": "stdout",
     "output_type": "stream",
     "text": [
      "table.shape = (2622, 1424)\n"
     ]
    }
   ],
   "source": [
    "data = h5py.File('mp_in.o2', 'r')['markov_chain_0/data']\n",
    "table = []\n",
    "for k, col in enumerate(cols):\n",
    "    table.append(np.array(data[cols[k]]))\n",
    "table = np.array(table).T\n",
    "print('table.shape =', table.shape)"
   ]
  },
  {
   "cell_type": "code",
   "execution_count": 19,
   "metadata": {},
   "outputs": [
    {
     "name": "stdout",
     "output_type": "stream",
     "text": [
      "[ True  True  True ... False False False]\n"
     ]
    }
   ],
   "source": [
    "print(np.linalg.eigh(np.cov(table))[0] <= 0)"
   ]
  },
  {
   "cell_type": "code",
   "execution_count": null,
   "metadata": {},
   "outputs": [],
   "source": []
  }
 ],
 "metadata": {
  "kernelspec": {
   "display_name": "tfg",
   "language": "python",
   "name": "python3"
  },
  "language_info": {
   "codemirror_mode": {
    "name": "ipython",
    "version": 3
   },
   "file_extension": ".py",
   "mimetype": "text/x-python",
   "name": "python",
   "nbconvert_exporter": "python",
   "pygments_lexer": "ipython3",
   "version": "3.10.13"
  }
 },
 "nbformat": 4,
 "nbformat_minor": 2
}
