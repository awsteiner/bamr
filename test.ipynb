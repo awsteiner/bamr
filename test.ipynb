{
 "cells": [
  {
   "cell_type": "code",
   "execution_count": 1,
   "metadata": {},
   "outputs": [],
   "source": [
    "# import numpy as np\n",
    "# import matplotlib.pyplot as plt\n",
    "from scipy.optimize import fsolve\n",
    "from math import sqrt, exp, erf, pi"
   ]
  },
  {
   "cell_type": "code",
   "execution_count": 2,
   "metadata": {},
   "outputs": [],
   "source": [
    "class ns_pop:\n",
    "\n",
    "  def __init__(self, low, high):\n",
    "    self.l=low\n",
    "    self.h=high\n",
    "\n",
    "  def skewd_norm(mean, width, skewns, mass):\n",
    "    cf = 1/width/sqrt(2*pi)\n",
    "    pdf = exp(-0.5*((mass-mean)/width)**2)\n",
    "    cdf = 1 + erf(((mass-mean)*skewns)/width/sqrt(2))\n",
    "    return cf*pdf*cdf\n",
    "\n",
    "  def asym_norm(unc, asym, scale):\n",
    "    cf = 2/(sqrt(2*pi)*scale*(asym+1/asym))\n",
    "    efn = exp(-0.5*(asym*unc/scale)**2)\n",
    "    efp = exp(-0.5*(unc/asym/scale)**2)\n",
    "    if (unc<0):\n",
    "      return cf*efn\n",
    "    else:\n",
    "      return cf*efp\n",
    "\n",
    "class eq_solver:\n",
    "    \n",
    "  def fn_to_solve(scale):\n",
    "    low, high = ns_pop.l, ns_pop.h\n",
    "    asym = sqrt(high/low)\n",
    "    fn1 = (asym**2) * erf(high/(sqrt(2)*asym*scale))\n",
    "    fn2 = erf(-asym*low/(sqrt(2)*scale))\n",
    "    fn3 = 0.68 * (asym**2+1)\n",
    "    return fn1-fn2-fn3\n",
    "\n",
    "  def get_scale(low, high):\n",
    "    guess = 0.1\n",
    "    scale = fsolve(ns_pop.fn_to_solve, guess)\n",
    "    return scale\n",
    "\n",
    "\n",
    "\n"
   ]
  },
  {
   "cell_type": "code",
   "execution_count": 3,
   "metadata": {},
   "outputs": [
    {
     "name": "stdout",
     "output_type": "stream",
     "text": [
      "1.784481e-02\n"
     ]
    }
   ],
   "source": [
    "sn = skewd_norm(1.499875, 3.158809e-1, -1.794950e-4, 2.421801)\n",
    "print('{:1.6e}'.format(sn))"
   ]
  },
  {
   "cell_type": "code",
   "execution_count": 4,
   "metadata": {},
   "outputs": [
    {
     "name": "stdout",
     "output_type": "stream",
     "text": [
      "1.222830e-01\n"
     ]
    }
   ],
   "source": [
    "sn1=skewd_norm(1.300136e+00, 1.993130e-01, 1.958131e-05, 1.769712)\n",
    "sn2=skewd_norm(1.300136e+00, 1.993130e-01, 1.958131e-05, 1.061957)\n",
    "snl = sn1*sn2\n",
    "print('{:1.6e}'.format(snl))"
   ]
  },
  {
   "cell_type": "code",
   "execution_count": null,
   "metadata": {},
   "outputs": [],
   "source": []
  }
 ],
 "metadata": {
  "kernelspec": {
   "display_name": "Python 3",
   "language": "python",
   "name": "python3"
  },
  "language_info": {
   "codemirror_mode": {
    "name": "ipython",
    "version": 3
   },
   "file_extension": ".py",
   "mimetype": "text/x-python",
   "name": "python",
   "nbconvert_exporter": "python",
   "pygments_lexer": "ipython3",
   "version": "3.10.6"
  },
  "orig_nbformat": 4,
  "vscode": {
   "interpreter": {
    "hash": "916dbcbb3f70747c44a77c7bcd40155683ae19c65e1c03b4aa3499c5328201f1"
   }
  }
 },
 "nbformat": 4,
 "nbformat_minor": 2
}
