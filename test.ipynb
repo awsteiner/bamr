{
 "cells": [
  {
   "cell_type": "code",
   "execution_count": 10,
   "metadata": {},
   "outputs": [],
   "source": [
    "# import numpy as np\n",
    "# import matplotlib.pyplot as plt\n",
    "from scipy.optimize import fsolve\n",
    "from math import sqrt, exp, erf, pi"
   ]
  },
  {
   "cell_type": "code",
   "execution_count": 11,
   "metadata": {},
   "outputs": [],
   "source": [
    "def skewd_norm(mean, width, skewns, mass):\n",
    "    cf = 1/width/sqrt(2*pi)\n",
    "    pdf = exp(-0.5*((mass-mean)/width)**2)\n",
    "    cdf = 1 + erf(((mass-mean)*skewns)/width/sqrt(2))\n",
    "    return cf*pdf*cdf\n",
    "\n",
    "\n",
    "# def asym_norm(asym, scale, low, high):\n",
    "    "
   ]
  },
  {
   "cell_type": "code",
   "execution_count": 12,
   "metadata": {},
   "outputs": [
    {
     "name": "stdout",
     "output_type": "stream",
     "text": [
      "1.784481e-02\n"
     ]
    }
   ],
   "source": [
    "sn=skewd_norm(1.499875, 3.158809e-1, -1.794950e-4, 2.421801)\n",
    "print('{:1.6e}'.format(sn))"
   ]
  },
  {
   "cell_type": "code",
   "execution_count": 13,
   "metadata": {},
   "outputs": [
    {
     "name": "stdout",
     "output_type": "stream",
     "text": [
      "1.222830e-01\n"
     ]
    }
   ],
   "source": [
    "sn1=skewd_norm(1.300136e+00, 1.993130e-01, 1.958131e-05, 1.769712)\n",
    "sn2=skewd_norm(1.300136e+00, 1.993130e-01, 1.958131e-05, 1.061957)\n",
    "snl = sn1*sn2\n",
    "print('{:1.6e}'.format(snl))"
   ]
  },
  {
   "cell_type": "code",
   "execution_count": null,
   "metadata": {},
   "outputs": [],
   "source": []
  }
 ],
 "metadata": {
  "kernelspec": {
   "display_name": "tfg",
   "language": "python",
   "name": "python3"
  },
  "language_info": {
   "codemirror_mode": {
    "name": "ipython",
    "version": 3
   },
   "file_extension": ".py",
   "mimetype": "text/x-python",
   "name": "python",
   "nbconvert_exporter": "python",
   "pygments_lexer": "ipython3",
   "version": "3.10.9"
  },
  "orig_nbformat": 4,
  "vscode": {
   "interpreter": {
    "hash": "e8eca9a489cba74e2c785763186f3a652af4384b5e1d9884e68659331b4bbb3b"
   }
  }
 },
 "nbformat": 4,
 "nbformat_minor": 2
}
